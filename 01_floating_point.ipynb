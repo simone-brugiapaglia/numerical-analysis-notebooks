{
 "cells": [
  {
   "cell_type": "markdown",
   "id": "f828b1e2-5802-4815-ba18-7cae0e60b48e",
   "metadata": {},
   "source": [
    "# Know your (computer's) limits: Floating point arithmetic\n",
    "\n",
    "*(Jupyter notebook by Simone Brugiapaglia)*\n",
    "\n",
    "This notebook illustrates basic notions and usage of floating point arithmetic. The main reference is Chapter 9 of the textbook\n",
    "\n",
    "*Q. Kong, T. Siauw, and A. M. Bayen. Python Programming and Numerical Methods: A Guide for Engineers and Scientists. Academic Press, 2021. (https://pythonnumericalmethods.berkeley.edu/)*"
   ]
  },
  {
   "cell_type": "code",
   "execution_count": 32,
   "id": "7225ff3f-2eff-4965-82a1-3919670a3118",
   "metadata": {},
   "outputs": [],
   "source": [
    "# import all the modules necessary to run this notebook\n",
    "import sys\n",
    "import numpy as np\n",
    "import math"
   ]
  },
  {
   "cell_type": "markdown",
   "id": "9736f7e3-2fc3-40a0-907e-9ea7eab63393",
   "metadata": {},
   "source": [
    "## Floating point numbers and the IEEE 754 standard\n",
    "\n",
    "A floating point number $n$ can be represented as\n",
    "$$\n",
    "n = (-1)^s \\cdot 2^{c-1023} \\cdot (1+f),\n",
    "$$\n",
    "where $s$ is the *sign indicator*, $c$ is the *characteristic* or *exponent* and $f$ is the *mantissa* or *fraction*. In the IEEE 754 standard for double precision arithmetic (see https://en.wikipedia.org/wiki/IEEE_754) a floating point number is stored using 64 bits, organized as follows: \n",
    "- 1 bit for the sign $s \\in \\{0,1\\}$\n",
    "- 11 bits for the characteristic $c \\in \\{0,1, \\ldots, 2^{11}-1 = 2047\\}$\n",
    "- 52 bits for the mantissa (in binary representation) $f = 0.b_1b_2\\ldots b_{52} \\in [0, 1-2^{-52}]$ (where $b_j \\in\\{0,1\\}$ are binary digits)\n",
    "\n",
    "Note that $c = 0$ is reserved to represent the number $n=0$ and so-called *subnormal numbers* (https://en.wikipedia.org/wiki/Subnormal_number). In addition, $c = 2047$ is reserved for the `nan` (not a number) and `inf` special values.\n",
    "\n",
    "In Python, we can obtain information about the storage of floating point numbers using the `sys` module\n"
   ]
  },
  {
   "cell_type": "code",
   "execution_count": 1,
   "id": "87ef14e0-103f-4a0e-a68a-9d2671756049",
   "metadata": {},
   "outputs": [
    {
     "data": {
      "text/plain": [
       "sys.float_info(max=1.7976931348623157e+308, max_exp=1024, max_10_exp=308, min=2.2250738585072014e-308, min_exp=-1021, min_10_exp=-307, dig=15, mant_dig=53, epsilon=2.220446049250313e-16, radix=2, rounds=1)"
      ]
     },
     "execution_count": 1,
     "metadata": {},
     "output_type": "execute_result"
    }
   ],
   "source": [
    "sys.float_info"
   ]
  },
  {
   "cell_type": "markdown",
   "id": "f7ae3063-e2be-4d96-a00b-0333f23d5e7a",
   "metadata": {},
   "source": [
    "One could easily check what the largest and smallest double precision floating point numbers are.\n",
    "\n",
    "Recalling that $c = 2047$ is reserved for special values, largest flating point number is $2^{1023}\\cdot(2-2^{-52})$, corresponding to $c = 2046$ and $f = 1-2^{-52}$. We can also compute it using the command `sys.float_info.max`."
   ]
  },
  {
   "cell_type": "code",
   "execution_count": 8,
   "id": "32a1c1af-7450-4a8c-b42c-acec79766a5a",
   "metadata": {},
   "outputs": [
    {
     "name": "stdout",
     "output_type": "stream",
     "text": [
      "1.7976931348623157e+308\n",
      "1.7976931348623157e+308\n"
     ]
    }
   ],
   "source": [
    "c = 2046       # characteristic\n",
    "f = 1-2**(-52) # mantissa\n",
    "print(2**(c-1023)*(1+f))  # largest floating point number, computed using the definition\n",
    "\n",
    "print(sys.float_info.max) # largest floating point number, computed using the sys module"
   ]
  },
  {
   "cell_type": "markdown",
   "id": "9c8db865-944c-4fa8-aed9-9b1f0f3b9486",
   "metadata": {},
   "source": [
    "Similary, one can compute the smallest floatin point number and show that it concides with `sys.float_info.min` (note that subnormal numbers, corresponding to the exponent "
   ]
  },
  {
   "cell_type": "code",
   "execution_count": 9,
   "id": "63e70fc4-1a4e-404d-ba25-ad42cfac54b6",
   "metadata": {},
   "outputs": [
    {
     "name": "stdout",
     "output_type": "stream",
     "text": [
      "2.2250738585072014e-308\n"
     ]
    },
    {
     "data": {
      "text/plain": [
       "2.121995791e-314"
      ]
     },
     "execution_count": 9,
     "metadata": {},
     "output_type": "execute_result"
    }
   ],
   "source": [
    "c = 1\n",
    "f = 0\n",
    "print(2**(c-1023)*(1+f)) # largest floating point number, computed using the definition\n",
    "sys.float_info.min/(2**20)"
   ]
  },
  {
   "cell_type": "markdown",
   "id": "76caf21d-25d1-4a49-95ff-6e912603076e",
   "metadata": {},
   "source": [
    "## The gap between floating point numbers\n",
    "\n",
    "Note that real numbers have no gaps between them, since they contiuously fill up the real line. However, this is not the case for floating point numbers. In fact, there is always a nonzero gap between two consecutive floating point numbers. In practice, this means that, unlike the line of real numbers, floating point numbers have a ``finite resolution''. The gap between a given number and its closest neighbor can be computed using the Python command `np.spacing`, inluded in the `numpy` library. \n",
    "\n",
    "Let's compute the gap between `1` and its closest floating point number:"
   ]
  },
  {
   "cell_type": "code",
   "execution_count": 33,
   "id": "5ecf0815-e922-4984-8b94-27795caa2c3f",
   "metadata": {},
   "outputs": [
    {
     "data": {
      "text/plain": [
       "2.220446049250313e-16"
      ]
     },
     "execution_count": 33,
     "metadata": {},
     "output_type": "execute_result"
    }
   ],
   "source": [
    "np.spacing(1)      # compute the gap between 1 and its closest floating point number"
   ]
  },
  {
   "cell_type": "markdown",
   "id": "83390e72-069c-44cd-bd3f-64ebca2de3c7",
   "metadata": {},
   "source": [
    "This means that if we add `2.220446049250313e-16` to `1`, we will get a different number. However, it we add for example `1e-16` to `1`, the result will be inaccurate, since there is not enough space to represent that number in floating point arithmetic:"
   ]
  },
  {
   "cell_type": "code",
   "execution_count": 11,
   "id": "d753ad18-2a7b-4256-bc04-c6e89f043518",
   "metadata": {},
   "outputs": [
    {
     "name": "stdout",
     "output_type": "stream",
     "text": [
      "1.0000000000000002\n",
      "False\n"
     ]
    }
   ],
   "source": [
    "one_plus_small = 1 + np.spacing(1)\n",
    "print(one_plus_small)      # add a small floating point number to 1, larger than its gap\n",
    "print(one_plus_small == 1) # check if the result is equal to 1"
   ]
  },
  {
   "cell_type": "code",
   "execution_count": 12,
   "id": "1fa464fd-d551-41d2-9219-5a636ef36cee",
   "metadata": {},
   "outputs": [
    {
     "name": "stdout",
     "output_type": "stream",
     "text": [
      "1.0\n",
      "True\n"
     ]
    }
   ],
   "source": [
    "one_plus_smaller = 1 + np.spacing(1)/2\n",
    "print(one_plus_smaller)      # add a small floating point number to 1, smaller than its gap\n",
    "print(one_plus_smaller == 1) # check if the result is equal to 1"
   ]
  },
  {
   "cell_type": "markdown",
   "id": "5c237191-cd51-40a8-8a5d-c2451c772937",
   "metadata": {},
   "source": [
    "## Round-off errors\n",
    "\n",
    "The previous examples involving adding a very small (i.e., smaller than its gap) number to `1` is an example of round-off error. The fact that we perform operations in floating point arithmetic introduces errors practically at every operation. The only exception is cases where the result of two floating point numbers is a third floating point number. But this is a pretty rare coincidence that almost never happens.\n",
    "\n",
    "The first kind of round-off error is the rapresentation error when we store numbers that are not floating point numbers in memory. Examples include Euler's number $e$, $\\pi$, but also rational numbers such as $1/3$ or $3/7$. For example, $e$ has infinitely many non periodic digits in its decimal representation. "
   ]
  },
  {
   "cell_type": "code",
   "execution_count": 34,
   "id": "d7c0365e-ad6c-4bfa-a5d9-93bf7c267d87",
   "metadata": {},
   "outputs": [
    {
     "name": "stdout",
     "output_type": "stream",
     "text": [
      "2.718281828459045\n"
     ]
    }
   ],
   "source": [
    "print(math.e) # standard way to use e in Python"
   ]
  },
  {
   "cell_type": "markdown",
   "id": "45146d9e-1e45-488e-b76b-7fcadff2571f",
   "metadata": {},
   "source": [
    "We could even try to give more digits of $e$ (see https://apod.nasa.gov/htmltest/gifcity/e.1mil) to Python (or any other programming language based on floating point arithmetic), but it will simplky ignore our suggestion and store only 64 bits of this number."
   ]
  },
  {
   "cell_type": "code",
   "execution_count": 30,
   "id": "26a4e894-8b76-4a9a-b644-1f6d7932c993",
   "metadata": {},
   "outputs": [
    {
     "name": "stdout",
     "output_type": "stream",
     "text": [
      "2.718281828459045\n",
      "True\n"
     ]
    }
   ],
   "source": [
    "# More digits of e (from https://apod.nasa.gov/htmltest/gifcity/e.1mil)\n",
    "e_with_more_digits = 2.7182818284590452353602874713526624977572470936999595749669676277240766303535475945713821785251664274274663919320\n",
    "print(e_with_more_digits)\n",
    "print(e_with_more_digits == math.e) # Check that our representation of e with more digit is equal to the stardard one"
   ]
  },
  {
   "cell_type": "markdown",
   "id": "e95f5499-89d5-4a5a-96c1-31897605d511",
   "metadata": {},
   "source": [
    "Another type of round-off error is generated by floating point arithmetic. For example, $\\cos(\\pi/2)$ is not exactly equal to $0$ in because the computation of this function depends on floating point arithmetic operations."
   ]
  },
  {
   "cell_type": "code",
   "execution_count": 39,
   "id": "4198a093-e581-4f2c-b4ee-2825c5d125e4",
   "metadata": {},
   "outputs": [
    {
     "data": {
      "text/plain": [
       "6.123233995736766e-17"
      ]
     },
     "execution_count": 39,
     "metadata": {},
     "output_type": "execute_result"
    }
   ],
   "source": [
    "math.cos(math.pi / 2)"
   ]
  },
  {
   "cell_type": "markdown",
   "id": "a0276270-321e-4c2a-b133-7f4b6636f851",
   "metadata": {},
   "source": [
    "Let's consider another illustrative example where simple arithmetic operations can cause round-off errors. For example, we know that the expression $x + 1/x$ is always a number different from $x$, for any $x \\neq 0$. However, the situation in floating point arithmetic is different and depends on the size of $x$... If $x$ is too large, then the sum $x + 1/x$ will yield a cancellation error, resulting in this number being equal to $x$!"
   ]
  },
  {
   "cell_type": "code",
   "execution_count": 110,
   "id": "e76c7b7a-a0ee-441d-965b-f5d2142084ca",
   "metadata": {},
   "outputs": [
    {
     "name": "stdout",
     "output_type": "stream",
     "text": [
      "False\n"
     ]
    }
   ],
   "source": [
    "x = 1e8\n",
    "print(x == x + 1/x)"
   ]
  },
  {
   "cell_type": "code",
   "execution_count": 109,
   "id": "526b9f69-516f-4f73-ab69-18cc9d86a5ed",
   "metadata": {},
   "outputs": [
    {
     "name": "stdout",
     "output_type": "stream",
     "text": [
      "True\n"
     ]
    }
   ],
   "source": [
    "x = 1e9\n",
    "print(x == x + 1/x)"
   ]
  },
  {
   "cell_type": "markdown",
   "id": "f8d63579-8700-4a2d-bb97-59bc448b16c8",
   "metadata": {},
   "source": [
    "## Recommended problems\n",
    "\n",
    "After reading Chapter 9 of \n",
    "\n",
    "*Q. Kong, T. Siauw, and A. M. Bayen. Python Programming and Numerical Methods: A Guide for Engineers and Scientists. Academic Press, 2021. (https://pythonnumericalmethods.berkeley.edu/)*\n",
    "\n",
    "I invite you to work on the following problems: 1, 2, 6, 7.\n",
    "\n",
    "Also, have fun trying to find examples where seemeingly counterintuitive things happen in floating point arithmetic!"
   ]
  },
  {
   "cell_type": "code",
   "execution_count": null,
   "id": "01084edb-4c36-4851-9976-693ef3c4dbb1",
   "metadata": {},
   "outputs": [],
   "source": []
  }
 ],
 "metadata": {
  "kernelspec": {
   "display_name": "Python 3 (ipykernel)",
   "language": "python",
   "name": "python3"
  },
  "language_info": {
   "codemirror_mode": {
    "name": "ipython",
    "version": 3
   },
   "file_extension": ".py",
   "mimetype": "text/x-python",
   "name": "python",
   "nbconvert_exporter": "python",
   "pygments_lexer": "ipython3",
   "version": "3.10.10"
  }
 },
 "nbformat": 4,
 "nbformat_minor": 5
}
